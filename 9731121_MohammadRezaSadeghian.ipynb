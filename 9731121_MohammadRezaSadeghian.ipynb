{
  "nbformat": 4,
  "nbformat_minor": 0,
  "metadata": {
    "colab": {
      "name": "9731121_MohammadRezaSadeghian.ipynb",
      "provenance": [],
      "collapsed_sections": []
    },
    "kernelspec": {
      "name": "python3",
      "display_name": "Python 3"
    },
    "language_info": {
      "name": "python"
    }
  },
  "cells": [
    {
      "cell_type": "code",
      "execution_count": 17,
      "metadata": {
        "id": "z02ReLW_tV_A",
        "colab": {
          "base_uri": "https://localhost:8080/"
        },
        "outputId": "1186ad39-8e91-4e0d-81ef-a7787df96d2f"
      },
      "outputs": [
        {
          "output_type": "stream",
          "name": "stdout",
          "text": [
            "Drive already mounted at /content/drive; to attempt to forcibly remount, call drive.mount(\"/content/drive\", force_remount=True).\n"
          ]
        }
      ],
      "source": [
        "from google.colab import drive\n",
        "drive.mount('/content/drive') "
      ]
    },
    {
      "cell_type": "code",
      "source": [
        "import numpy as np\n",
        "import pandas as pd\n",
        "import tensorflow as tf\n",
        "from keras.layers import Dense\n",
        "from keras.layers import Conv2D\n",
        "from keras.layers import Flatten\n",
        "from keras.layers import Dropout\n",
        "from keras.layers import MaxPool2D\n",
        "from keras.models import Sequential\n",
        "from keras.optimizers import adam_v2\n",
        "from keras.losses import SparseCategoricalCrossentropy\n",
        "from tensorflow.keras.utils import to_categorical"
      ],
      "metadata": {
        "id": "fjUE8peVwlUL"
      },
      "execution_count": 12,
      "outputs": []
    },
    {
      "cell_type": "code",
      "source": [
        "train_set = pd.read_csv('/content/drive/MyDrive/Bio/training_set.csv')\n",
        "dev_set = pd.read_csv('/content/drive/MyDrive/Bio/development_set.csv')\n",
        "test_set = pd.read_csv('/content/drive/MyDrive/Bio/test_set.csv')"
      ],
      "metadata": {
        "id": "MFGLPNJ54REn"
      },
      "execution_count": 3,
      "outputs": []
    },
    {
      "cell_type": "code",
      "source": [
        "# K_Mers\n",
        "k = 7\n",
        "dnaLetters = ['A', 'T', 'G', 'C']\n",
        "allSubString = []\n",
        "\n",
        "def generateString(dnaLetters, prefix, k):\n",
        "\n",
        "  n = len(dnaLetters)\n",
        "  if (k == 0):\n",
        "    allSubString.append(prefix)\n",
        "    return \n",
        "  \n",
        "  for l in dnaLetters:\n",
        "    newPrefix = prefix + l\n",
        "    generateString(dnaLetters, newPrefix, k-1)\n",
        "\n",
        "generateString(dnaLetters, \"\", k)\n",
        "subDict =  {allSubString[i] : i for i in range(0, len(allSubString))}"
      ],
      "metadata": {
        "id": "Go-WjECd6Di_"
      },
      "execution_count": 4,
      "outputs": []
    },
    {
      "cell_type": "code",
      "source": [
        "def generate_X(data_set):\n",
        "  X_input = np.zeros((len(data_set), len(allSubString)))\n",
        "  for i in range(len(data_set)):\n",
        "    seq = data_set[i]\n",
        "    for j in range(0, len(seq) - k + 1):\n",
        "      X_input[i][subDict[seq[j:j+k]]] += 1\n",
        "\n",
        "  X_input = X_input.astype('float32')\n",
        "  return X_input"
      ],
      "metadata": {
        "id": "JOHYPLxlrmVi"
      },
      "execution_count": 5,
      "outputs": []
    },
    {
      "cell_type": "code",
      "source": [
        "def generate_Y(data_set):\n",
        "  Y_input = data_set.apply(lambda x : int(x[5]) - 1).to_numpy()\n",
        "  Y_input = to_categorical(Y_input)\n",
        "  return Y_input"
      ],
      "metadata": {
        "id": "v-FFhCSUu9d9"
      },
      "execution_count": 6,
      "outputs": []
    },
    {
      "cell_type": "code",
      "source": [
        "X_train = generate_X(train_set['Sequence'])\n",
        "Y_train = generate_Y(train_set['Type'])\n",
        "\n",
        "X_dev = generate_X(dev_set['Sequence'])\n",
        "Y_dev = generate_Y(dev_set['Type'])\n",
        "\n",
        "X_test = generate_X(test_set['Sequence'])"
      ],
      "metadata": {
        "id": "66McWxXMCGkB"
      },
      "execution_count": 23,
      "outputs": []
    },
    {
      "cell_type": "code",
      "source": [
        "MLP_model = Sequential()\n",
        "MLP_model.add(Dense(80, input_dim=len(allSubString), activation='relu'))\n",
        "# MLP_model.add(Dropout(0.05))\n",
        "MLP_model.add(Dense(50, activation = 'relu'))\n",
        "# MLP_model.add(Dropout(0.05))\n",
        "MLP_model.add(Dense(6, activation='softmax'))"
      ],
      "metadata": {
        "id": "AoQFoIs2Zxtl"
      },
      "execution_count": 24,
      "outputs": []
    },
    {
      "cell_type": "code",
      "source": [
        "MLP_model.compile(loss='categorical_crossentropy', optimizer=\"adam\", metrics=['accuracy'])\n",
        "history = MLP_model.fit(X_train, Y_train, epochs=20, batch_size=50, verbose=1, validation_split=0.2)"
      ],
      "metadata": {
        "colab": {
          "base_uri": "https://localhost:8080/"
        },
        "id": "PgnyB58_zG9L",
        "outputId": "79bb94c3-6bf9-4ca1-c714-7161b4fdd582"
      },
      "execution_count": 25,
      "outputs": [
        {
          "output_type": "stream",
          "name": "stdout",
          "text": [
            "Epoch 1/20\n",
            "22/22 [==============================] - 1s 18ms/step - loss: 0.9853 - accuracy: 0.8390 - val_loss: 9.3508e-04 - val_accuracy: 1.0000\n",
            "Epoch 2/20\n",
            "22/22 [==============================] - 0s 14ms/step - loss: 5.8855e-04 - accuracy: 1.0000 - val_loss: 2.5776e-05 - val_accuracy: 1.0000\n",
            "Epoch 3/20\n",
            "22/22 [==============================] - 0s 13ms/step - loss: 3.3625e-05 - accuracy: 1.0000 - val_loss: 1.5333e-05 - val_accuracy: 1.0000\n",
            "Epoch 4/20\n",
            "22/22 [==============================] - 0s 13ms/step - loss: 2.5696e-05 - accuracy: 1.0000 - val_loss: 1.2820e-05 - val_accuracy: 1.0000\n",
            "Epoch 5/20\n",
            "22/22 [==============================] - 0s 14ms/step - loss: 2.2510e-05 - accuracy: 1.0000 - val_loss: 1.1335e-05 - val_accuracy: 1.0000\n",
            "Epoch 6/20\n",
            "22/22 [==============================] - 0s 13ms/step - loss: 1.9968e-05 - accuracy: 1.0000 - val_loss: 1.0155e-05 - val_accuracy: 1.0000\n",
            "Epoch 7/20\n",
            "22/22 [==============================] - 0s 13ms/step - loss: 1.7839e-05 - accuracy: 1.0000 - val_loss: 9.1085e-06 - val_accuracy: 1.0000\n",
            "Epoch 8/20\n",
            "22/22 [==============================] - 0s 13ms/step - loss: 1.5889e-05 - accuracy: 1.0000 - val_loss: 8.2393e-06 - val_accuracy: 1.0000\n",
            "Epoch 9/20\n",
            "22/22 [==============================] - 0s 13ms/step - loss: 1.4305e-05 - accuracy: 1.0000 - val_loss: 7.4616e-06 - val_accuracy: 1.0000\n",
            "Epoch 10/20\n",
            "22/22 [==============================] - 0s 13ms/step - loss: 1.2977e-05 - accuracy: 1.0000 - val_loss: 6.7900e-06 - val_accuracy: 1.0000\n",
            "Epoch 11/20\n",
            "22/22 [==============================] - 0s 13ms/step - loss: 1.1924e-05 - accuracy: 1.0000 - val_loss: 6.1527e-06 - val_accuracy: 1.0000\n",
            "Epoch 12/20\n",
            "22/22 [==============================] - 0s 13ms/step - loss: 1.0739e-05 - accuracy: 1.0000 - val_loss: 5.6904e-06 - val_accuracy: 1.0000\n",
            "Epoch 13/20\n",
            "22/22 [==============================] - 0s 15ms/step - loss: 9.7291e-06 - accuracy: 1.0000 - val_loss: 5.1636e-06 - val_accuracy: 1.0000\n",
            "Epoch 14/20\n",
            "22/22 [==============================] - 0s 13ms/step - loss: 8.8428e-06 - accuracy: 1.0000 - val_loss: 4.7772e-06 - val_accuracy: 1.0000\n",
            "Epoch 15/20\n",
            "22/22 [==============================] - 0s 15ms/step - loss: 8.2191e-06 - accuracy: 1.0000 - val_loss: 4.4296e-06 - val_accuracy: 1.0000\n",
            "Epoch 16/20\n",
            "22/22 [==============================] - 0s 15ms/step - loss: 7.6463e-06 - accuracy: 1.0000 - val_loss: 4.1245e-06 - val_accuracy: 1.0000\n",
            "Epoch 17/20\n",
            "22/22 [==============================] - 0s 13ms/step - loss: 7.1159e-06 - accuracy: 1.0000 - val_loss: 3.8920e-06 - val_accuracy: 1.0000\n",
            "Epoch 18/20\n",
            "22/22 [==============================] - 0s 13ms/step - loss: 6.6796e-06 - accuracy: 1.0000 - val_loss: 3.6455e-06 - val_accuracy: 1.0000\n",
            "Epoch 19/20\n",
            "22/22 [==============================] - 0s 13ms/step - loss: 6.2943e-06 - accuracy: 1.0000 - val_loss: 3.4157e-06 - val_accuracy: 1.0000\n",
            "Epoch 20/20\n",
            "22/22 [==============================] - 0s 13ms/step - loss: 5.8834e-06 - accuracy: 1.0000 - val_loss: 3.2419e-06 - val_accuracy: 1.0000\n"
          ]
        }
      ]
    },
    {
      "cell_type": "code",
      "source": [
        "MLP_model.summary()\n",
        "print(\"\\n\")\n",
        "test = MLP_model.evaluate(X_dev, Y_dev, verbose=1)\n",
        "print(\"\\n------------------------------------------------------------------\")\n",
        "print(MLP_model.predict(X_dev))\n",
        "print(\"\\n------------------------------------------------------------------\")\n",
        "result = (MLP_model.predict(X_test).argmax(axis=-1) + 1)\n",
        "print(result)\n"
      ],
      "metadata": {
        "id": "EPIgZZxGxu0Q",
        "colab": {
          "base_uri": "https://localhost:8080/"
        },
        "outputId": "57c1e04d-22c9-417c-d0a5-f969deca7e82"
      },
      "execution_count": 33,
      "outputs": [
        {
          "output_type": "stream",
          "name": "stdout",
          "text": [
            "Model: \"sequential_4\"\n",
            "_________________________________________________________________\n",
            " Layer (type)                Output Shape              Param #   \n",
            "=================================================================\n",
            " dense_9 (Dense)             (None, 80)                1310800   \n",
            "                                                                 \n",
            " dense_10 (Dense)            (None, 50)                4050      \n",
            "                                                                 \n",
            " dense_11 (Dense)            (None, 6)                 306       \n",
            "                                                                 \n",
            "=================================================================\n",
            "Total params: 1,315,156\n",
            "Trainable params: 1,315,156\n",
            "Non-trainable params: 0\n",
            "_________________________________________________________________\n",
            "\n",
            "\n",
            "6/6 [==============================] - 0s 6ms/step - loss: 9.5897e-07 - accuracy: 1.0000\n",
            "\n",
            "------------------------------------------------------------------\n",
            "[[5.4295820e-06 1.0355825e-09 1.1050500e-12 1.2913298e-06 9.9999166e-01\n",
            "  1.6818009e-06]\n",
            " [6.4401995e-09 1.0000000e+00 1.3589282e-18 7.4523461e-24 8.4879861e-17\n",
            "  9.8136676e-21]\n",
            " [5.1949609e-09 1.0000000e+00 1.1868981e-18 6.1522008e-24 5.9223154e-17\n",
            "  8.6107886e-21]\n",
            " ...\n",
            " [1.0000000e+00 9.1576551e-26 1.5201584e-32 8.2676806e-38 1.7346751e-21\n",
            "  6.0038448e-38]\n",
            " [1.0000000e+00 5.9208424e-26 1.7546645e-32 6.7132745e-38 1.2920846e-21\n",
            "  5.0830112e-38]\n",
            " [1.0000000e+00 6.9120338e-26 1.8066243e-32 7.1987763e-38 1.3606172e-21\n",
            "  5.6288276e-38]]\n",
            "\n",
            "------------------------------------------------------------------\n",
            "[5 5 3 1 6 1 6 3 4 1 4 3 2 4 4 3 6 3 3 3 4 1 5 6 1 5 3 3 3 3 1 3 6 1 6 1 3\n",
            " 5 5 6 5 4 5 5 3 6 4 5 1 2 4 3 4 3 3 6 1 6 5 3 1 3 3 3 3 6 4 5 6 6 6 3 2 6\n",
            " 1 1 4 6 6 2 5 4 1 1 3 5 6 4 3 5 3 1 1 6 5 3 5 1 4 1 3 3 2 1 3 4 3 3 3 3 3\n",
            " 1 4 1 4 4 3 3 3 4 6 1 6 4 5 3 6 2 1 3 3 6 5 2 2 3 2 1 3 3 5 1 6 1 2 2 1 3\n",
            " 1 1 6 6 2 6 3 5 5 3 6 3 1 2 4 4 3 3 5 4 1 1 2 3 6 1 3 2 6 4 5 6 5 6 5 5 6\n",
            " 3 3 3 6 4 6 3 3 6 6 6 1 1 5 1 1 3 1 1 1 1 5 3 2 2 1 1 1 1 3 6 3 3 4 5 6 4\n",
            " 1 4 3 4 6 5 4 6 5 5 6 6 4 5 3 6 6 3 1 1 4 4 4 5 1 2 6 1 6 3 2 2 1 2 3 6 6\n",
            " 5 1 3 6 1 3 3 1 1 5 4 1 3 1 2 1 1 3 3 3 6 1 6 4 1 3 4 3 3 4 3 1 3 6 6 2 1\n",
            " 6 2 1 6 6 1 4 1 6 5 6 3 4 2 4 3 1 6 5 5 2 3 5 4 5 1 3 3 4 1 1 1 1 2 1 5 2\n",
            " 3 3 4 2 5 1 5 4 1 1 3 3 2 5 4 4 3 2 5 1 2 1 2 1 2 2 3 5 6 1 6 3 1 6 4 1 1\n",
            " 1 2 3 5 6 3 1 1 4 2 1 6 3 6 3 4 2 6 6 3 3 2 2 6 3 1 3 2 5 1]\n"
          ]
        }
      ]
    },
    {
      "cell_type": "code",
      "source": [
        "CNN_model = Sequential([\n",
        "\n",
        "      Conv2D(32, (3, 3), padding='same', kernel_initializer='he_uniform', activation='relu', input_shape=(50, 1320, 4**7)),\n",
        "      Conv2D(32, (3, 3), padding='same', kernel_initializer='he_uniform', activation='relu'),\n",
        "      MaxPool2D((2, 2)),\n",
        "      Dropout(0.15),\n",
        "\n",
        "      Conv2D(64, (3, 3), padding='same', kernel_initializer='he_uniform', activation='relu'),\n",
        "      Conv2D(64, (3, 3), padding='same', kernel_initializer='he_uniform', activation='relu'),\n",
        "      MaxPool2D((2, 2)),\n",
        "      Dropout(0.15),\n",
        "\n",
        "      Conv2D(128, (3, 3), padding='same', kernel_initializer='he_uniform', activation='relu'),\n",
        "      Conv2D(128, (3, 3), padding='same', kernel_initializer='he_uniform', activation='relu'),\n",
        "      MaxPool2D((2, 2)),\n",
        "      Dropout(0.15),\n",
        "      \n",
        "      Flatten(),\n",
        "      Dense(128, kernel_initializer='he_uniform', activation='relu'),\n",
        "      Dropout(0.15),\n",
        "      Dense(6, kernel_initializer='he_uniform', activation='softmax')\n",
        "])"
      ],
      "metadata": {
        "id": "DClHtS9lUD-h"
      },
      "execution_count": 15,
      "outputs": []
    },
    {
      "cell_type": "code",
      "source": [
        "CNN_model.compile(loss='categorical_crossentropy', optimizer=\"adam\", metrics=['accuracy'])\n",
        "history = CNN_model.fit(train_data, Y_train, epochs=20, batch_size=50)"
      ],
      "metadata": {
        "id": "PvVA0kHXcPqc"
      },
      "execution_count": null,
      "outputs": []
    }
  ]
}